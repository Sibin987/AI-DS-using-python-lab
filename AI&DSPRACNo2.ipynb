{
  "nbformat": 4,
  "nbformat_minor": 0,
  "metadata": {
    "colab": {
      "name": "AI&DSPRACNo2.ipynb",
      "provenance": [],
      "authorship_tag": "ABX9TyNsEZ6RtPLDfMiYwDE9IVXy",
      "include_colab_link": true
    },
    "kernelspec": {
      "name": "python3",
      "display_name": "Python 3"
    },
    "language_info": {
      "name": "python"
    }
  },
  "cells": [
    {
      "cell_type": "markdown",
      "metadata": {
        "id": "view-in-github",
        "colab_type": "text"
      },
      "source": [
        "<a href=\"https://colab.research.google.com/github/Sibin987/AI-DS-using-python-lab/blob/main/AI%26DSPRACNo2.ipynb\" target=\"_parent\"><img src=\"https://colab.research.google.com/assets/colab-badge.svg\" alt=\"Open In Colab\"/></a>"
      ]
    },
    {
      "cell_type": "code",
      "execution_count": 3,
      "metadata": {
        "colab": {
          "base_uri": "https://localhost:8080/"
        },
        "id": "TKyHE8BlGbRn",
        "outputId": "470b58bd-bdb6-4c9e-c43a-c10fcb4b927d"
      },
      "outputs": [
        {
          "output_type": "stream",
          "name": "stdout",
          "text": [
            "          Company       OpSys  ... Ram Price_euros\n",
            "laptop_ID                      ...                \n",
            "1           Apple       macOS  ...   8     1339.69\n",
            "2           Apple       macOS  ...   8      898.94\n",
            "3              HP       No OS  ...   8      575.00\n",
            "4           Apple       macOS  ...  16     2537.45\n",
            "5           Apple       macOS  ...   8     1803.60\n",
            "...           ...         ...  ...  ..         ...\n",
            "1316       Lenovo  Windows 10  ...   4      638.00\n",
            "1317       Lenovo  Windows 10  ...  16     1499.00\n",
            "1318       Lenovo  Windows 10  ...   2      229.00\n",
            "1319           HP  Windows 10  ...   6      764.00\n",
            "1320         Asus  Windows 10  ...   4      369.00\n",
            "\n",
            "[1303 rows x 10 columns]\n"
          ]
        }
      ],
      "source": [
        "import pandas as pd\n",
        "data = pd.read_csv(\"laptop_price.csv\",encoding='latin-1', index_col =\"laptop_ID\")\n",
        "row2 = data.loc [:,:]\n",
        "print(row2)"
      ]
    }
  ]
}